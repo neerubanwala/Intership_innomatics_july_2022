{
 "cells": [
  {
   "cell_type": "code",
   "execution_count": 3,
   "id": "10d514f7",
   "metadata": {},
   "outputs": [
    {
     "name": "stdout",
     "output_type": "stream",
     "text": [
      "1\n",
      "2\n",
      "3\n",
      "4\n",
      "[[0, 0, 0], [0, 0, 1], [0, 0, 2], [0, 0, 3], [0, 1, 0], [0, 1, 1], [0, 1, 2], [0, 2, 0], [0, 2, 1], [0, 2, 3], [1, 0, 0], [1, 0, 1], [1, 0, 2], [1, 1, 0], [1, 1, 1], [1, 1, 3], [1, 2, 0], [1, 2, 2], [1, 2, 3]]\n"
     ]
    }
   ],
   "source": [
    " if __name__ == '__main__':\n",
    "    x = int(input())\n",
    "    y = int(input())\n",
    "    z = int(input())\n",
    "    n = int(input())\n",
    "    output = [];\n",
    "    abc = [];\n",
    "    for X in range (x+1):\n",
    "        for Y in range (y+1):\n",
    "            for Z in range (z+1):\n",
    "                if X+Y+Z != n:\n",
    "                    abc = [X,Y,Z];\n",
    "                    output.append(abc);\n",
    "print(output);  "
   ]
  },
  {
   "cell_type": "code",
   "execution_count": null,
   "id": "7af51629",
   "metadata": {},
   "outputs": [],
   "source": [
    " if __name__ == '__main__':\n",
    "    a = int(input())\n",
    "    arr = map(int, input().split())\n",
    "    print(sorted(list(set(arr)))[-2])"
   ]
  },
  {
   "cell_type": "code",
   "execution_count": null,
   "id": "cdbab303",
   "metadata": {},
   "outputs": [],
   "source": [
    "if __name__ == '__main__':\n",
    "    customer =[]\n",
    "    for _ in range(int(input())):\n",
    "        name = input()\n",
    "        score = float(input())\n",
    "        customer.append([name,score])\n",
    "    x = 99999\n",
    "    for i in range (len(customer)):\n",
    "        if x>float(customer[i][1]):\n",
    "            x = float(customer[i][1])\n",
    "    y = 999999   \n",
    "    for i in range(len(customer)):\n",
    "        if float(customer[i][1])>float(x) and y > float(customer[i][1]):\n",
    "            y = float(customer[i][1])\n",
    "    winner = []\n",
    "    for i in range(len(customer)):\n",
    "        if float(customer[i][1]) ==float(y):\n",
    "            winner.append(customer[i][0])\n",
    "    winner = sorted(runner)\n",
    "    for i in range(len(winner)):\n",
    "        print(winner[i])     \n"
   ]
  },
  {
   "cell_type": "markdown",
   "id": "299afe4a",
   "metadata": {},
   "source": []
  },
  {
   "cell_type": "code",
   "execution_count": null,
   "id": "41bdda2f",
   "metadata": {},
   "outputs": [],
   "source": [
    "if __name__ == '__main__':\n",
    "    n = int(input())\n",
    "    student_marks = {}\n",
    "    for _ in range(n):\n",
    "        name, *line = input().split()\n",
    "        scores = list(map(float, line))\n",
    "        student_marks[name] = scores\n",
    "    query_name = input()\n",
    "    output = list(student_marks[query_name])\n",
    "    per = sum(output)/len(output);\n",
    "    print(\"%.2f\" % per);\n",
    "\n"
   ]
  },
  {
   "cell_type": "code",
   "execution_count": 2,
   "id": "50ff98d6",
   "metadata": {},
   "outputs": [
    {
     "name": "stdout",
     "output_type": "stream",
     "text": [
      "8\n",
      "5\n",
      "9\n",
      "4\n",
      "3\n",
      "6\n",
      "2\n",
      "244\n",
      "777\n"
     ]
    }
   ],
   "source": [
    "if __name__ == '__main__':\n",
    "    N = int(input())\n",
    "    L=[];\n",
    "    for i in range(0,N):\n",
    "        cmd=input().split();\n",
    "        if cmd[0] == \"insert\":\n",
    "            L.insert(int(cmd[1]),int(cmd[2]))\n",
    "        elif cmd[0] == \"append\":\n",
    "            L.append(int(cmd[1]))\n",
    "        elif cmd[0] == \"pop\":\n",
    "            L.pop();\n",
    "        elif cmd[0] == \"print\":\n",
    "            print(L)\n",
    "        elif cmd[0] == \"remove\":\n",
    "            L.remove(int(cmd[1]))\n",
    "        elif cmd[0] == \"sort\":\n",
    "            L.sort();\n",
    "        else:\n",
    "            L.reverse();\n"
   ]
  },
  {
   "cell_type": "code",
   "execution_count": 5,
   "id": "cd10feea",
   "metadata": {},
   "outputs": [],
   "source": [
    "if __name__ == 'raw_input':\n",
    "    n = int(raw_input())\n",
    "    integer_list = map(int, raw_input().split())\n",
    "    print(hash(tuple(integer_list)))\n",
    "\n"
   ]
  },
  {
   "cell_type": "code",
   "execution_count": 6,
   "id": "f2a291c2",
   "metadata": {},
   "outputs": [
    {
     "ename": "SyntaxError",
     "evalue": "invalid syntax (Temp/ipykernel_15960/357971118.py, line 1)",
     "output_type": "error",
     "traceback": [
      "\u001b[1;36m  File \u001b[1;32m\"C:\\Users\\DELL\\AppData\\Local\\Temp/ipykernel_15960/357971118.py\"\u001b[1;36m, line \u001b[1;32m1\u001b[0m\n\u001b[1;33m    def from __future__ import division\u001b[0m\n\u001b[1;37m        ^\u001b[0m\n\u001b[1;31mSyntaxError\u001b[0m\u001b[1;31m:\u001b[0m invalid syntax\n"
     ]
    }
   ],
   "source": [
    "def from __future__ import division\n",
    "average(array):\n",
    "    return sum(set(array))/len(set(array))\n",
    "\n",
    "if __name__ == '__main__':\n",
    "\n"
   ]
  },
  {
   "cell_type": "code",
   "execution_count": null,
   "id": "e6791bab",
   "metadata": {},
   "outputs": [],
   "source": [
    "if __name__ == \"__main__\":\n",
    "    happiness = 0\n",
    "    n, m = map(int, input().strip().split(' '))\n",
    "    arr = list(map(int, input().strip().split(' ')))\n",
    "    \n",
    "    good = set(map(int, input().strip().split(' ')))\n",
    "    bad = set(map(int, input().strip().split(' ')))\n",
    "    \n",
    "    for i in arr:\n",
    "        if i in good:\n",
    "            happiness += 1\n",
    "        elif i in bad:\n",
    "            happiness -= 1\n",
    "    print(happiness)\n"
   ]
  },
  {
   "cell_type": "code",
   "execution_count": null,
   "id": "82c29edd",
   "metadata": {},
   "outputs": [],
   "source": [
    "M = int(input())\n",
    "mset = set(map(int, input().split()))\n",
    "N = int(input())\n",
    "nset = set(map(int, input().split()))\n",
    "\n",
    "mdef = mset.difference(nset)\n",
    "ndef = nset.difference(mset)\n",
    "\n",
    "output = mdef.union(ndef)\n",
    "\n",
    "for i in sorted(list(output)):\n",
    "    print(i)\n",
    "\n"
   ]
  },
  {
   "cell_type": "code",
   "execution_count": null,
   "id": "f5829936",
   "metadata": {},
   "outputs": [],
   "source": [
    "a = set()\n",
    "[a.add(input()) for _ in range(int(input()))]\n",
    "print(len(a))\n"
   ]
  },
  {
   "cell_type": "code",
   "execution_count": null,
   "id": "5531a86c",
   "metadata": {},
   "outputs": [],
   "source": [
    "num = int(input())\n",
    "data = set(map(int, input().split()))\n",
    "operations = int(input())\n",
    "\n",
    "for x in range(operations):\n",
    "  oper = input().split()\n",
    "  if oper[0] == \"remove\":\n",
    "    data.remove(int(oper[1]))\n",
    "  elif oper[0] == \"discard\":\n",
    "    data.discard(int(oper[1]))\n",
    "  else:\n",
    "    data.pop()\n",
    "    \n",
    "print(sum(data))\n",
    "\n"
   ]
  },
  {
   "cell_type": "code",
   "execution_count": null,
   "id": "919a63f3",
   "metadata": {},
   "outputs": [],
   "source": [
    "n = int(input())\n",
    "l = list(input().split())\n",
    "m = int(input())\n",
    "k = list(input().split())\n",
    "\n",
    "s1 = set(l)\n",
    "s2 = set(k)\n",
    "\n",
    "print(len(s1.union(s2)))\n",
    "\n"
   ]
  },
  {
   "cell_type": "code",
   "execution_count": null,
   "id": "7520119b",
   "metadata": {},
   "outputs": [],
   "source": [
    "num1, st1, num2, st2 = (set(input().split()) for i in range(4))\n",
    "print(len(st1.intersection(st2)))\n",
    "\n"
   ]
  },
  {
   "cell_type": "code",
   "execution_count": null,
   "id": "7c43aa89",
   "metadata": {},
   "outputs": [],
   "source": [
    "n1 = int(input())\n",
    "set_1 = set(map(int,input().split()))\n",
    "n2 = int(input())\n",
    "set_2 = set(map(int,input().split()))\n",
    "print(len(set_1-set_2))\n"
   ]
  },
  {
   "cell_type": "code",
   "execution_count": null,
   "id": "4ad84efc",
   "metadata": {},
   "outputs": [],
   "source": [
    "_, a = input(), set(input().split())\n",
    "_, b = input(), set(input().split())\n",
    "print(len(a.symmetric_difference(b)))\n",
    "\n"
   ]
  },
  {
   "cell_type": "code",
   "execution_count": null,
   "id": "2acbedcb",
   "metadata": {},
   "outputs": [],
   "source": [
    "if __name__ == '__main__':\n",
    "    (_, A) = (int(input()),set(map(int, input().split())))\n",
    "    B = int(input())\n",
    "    for _ in range(B):\n",
    "        (command, newSet) = (input().split()[0],set(map(int, input().split())))\n",
    "        getattr(A, command)(newSet)\n",
    "\n",
    "    print (sum(A))\n",
    "\n"
   ]
  },
  {
   "cell_type": "code",
   "execution_count": null,
   "id": "e2f959da",
   "metadata": {},
   "outputs": [],
   "source": [
    "N = int(input())\n",
    "\n",
    "storage = map(int, input().split())\n",
    "storage = sorted(storage)\n",
    "\n",
    "for i in range(len(storage)):\n",
    "    if(i != len(storage)-1):\n",
    "        if(storage[i]!=storage[i-1] and storage[i]!=storage[i+1]):\n",
    "            print(storage[i])\n",
    "            break;\n",
    "    else:\n",
    "        print(storage[i])\n"
   ]
  },
  {
   "cell_type": "code",
   "execution_count": null,
   "id": "73041d43",
   "metadata": {},
   "outputs": [],
   "source": [
    "for i in range(int(input())):\n",
    "    a = int(input())\n",
    "    set_a = set(map(int, input().split()))\n",
    "    b = int(input())\n",
    "    set_b = set(map(int, input().split()))\n",
    "    if len(set_a - set_b) == 0:\n",
    "        print(\"True\")\n",
    "    else:\n",
    "        print(\"False\")\n",
    "\n"
   ]
  },
  {
   "cell_type": "code",
   "execution_count": null,
   "id": "2f0c1a2c",
   "metadata": {},
   "outputs": [],
   "source": [
    "storage = set(input().split())\n",
    "N = int(input())\n",
    "output = True\n",
    "\n",
    "for i in range(N):\n",
    "    storage2 = set(input().split())\n",
    "    if not storage2.issubset(storage):\n",
    "        output = False\n",
    "    if len(storage2) >= len(storage):\n",
    "        output = False\n",
    "\n",
    "print(output)\n",
    "\n",
    "\n"
   ]
  },
  {
   "cell_type": "code",
   "execution_count": null,
   "id": "4a3e6f4c",
   "metadata": {},
   "outputs": [],
   "source": []
  }
 ],
 "metadata": {
  "kernelspec": {
   "display_name": "Python 3 (ipykernel)",
   "language": "python",
   "name": "python3"
  },
  "language_info": {
   "codemirror_mode": {
    "name": "ipython",
    "version": 3
   },
   "file_extension": ".py",
   "mimetype": "text/x-python",
   "name": "python",
   "nbconvert_exporter": "python",
   "pygments_lexer": "ipython3",
   "version": "3.9.7"
  }
 },
 "nbformat": 4,
 "nbformat_minor": 5
}
